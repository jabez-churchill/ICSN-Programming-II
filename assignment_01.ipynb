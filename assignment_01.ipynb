{
  "nbformat": 4,
  "nbformat_minor": 0,
  "metadata": {
    "colab": {
      "provenance": [],
      "mount_file_id": "1cuKUFZKLQv_zzwSIfobhHCJ0pV7o771K",
      "authorship_tag": "ABX9TyNZW6g1hOmsBhQZUpb+rvia"
    },
    "kernelspec": {
      "name": "python3",
      "display_name": "Python 3"
    },
    "language_info": {
      "name": "python"
    }
  },
  "cells": [
    {
      "cell_type": "code",
      "execution_count": 5,
      "metadata": {
        "colab": {
          "base_uri": "https://localhost:8080/"
        },
        "id": "n0vAf7vQ4W-F",
        "outputId": "690afdfb-d39f-4920-b8cd-0aa6f8512825"
      },
      "outputs": [
        {
          "output_type": "stream",
          "name": "stdout",
          "text": [
            "Say my name.\n"
          ]
        }
      ],
      "source": [
        "myString = \"Say \" #TODO(1) ✓\n",
        "myName = \"my name.\" #TODO(2) ✓\n",
        "\n",
        "def myFunction(): #TODO(3) ✓\n",
        "  print(myString + myName) \n",
        "\n",
        "\n",
        "myFunction() #TODO(4) ✓ Call a function (that calls a function).\n"
      ]
    }
  ]
}