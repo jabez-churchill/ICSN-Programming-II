{
  "nbformat": 4,
  "nbformat_minor": 0,
  "metadata": {
    "colab": {
      "provenance": [],
      "mount_file_id": "1cuKUFZKLQv_zzwSIfobhHCJ0pV7o771K",
      "authorship_tag": "ABX9TyORtUQGZRKjUu2WAud/00IW",
      "include_colab_link": true
    },
    "kernelspec": {
      "name": "python3",
      "display_name": "Python 3"
    },
    "language_info": {
      "name": "python"
    }
  },
  "cells": [
    {
      "cell_type": "markdown",
      "metadata": {
        "id": "view-in-github",
        "colab_type": "text"
      },
      "source": [
        "<a href=\"https://colab.research.google.com/github/jabez-churchill/ICSN-Programming-II/blob/main/assignment_1_py.ipynb\" target=\"_parent\"><img src=\"https://colab.research.google.com/assets/colab-badge.svg\" alt=\"Open In Colab\"/></a>"
      ]
    },
    {
      "cell_type": "code",
      "execution_count": 5,
      "metadata": {
        "colab": {
          "base_uri": "https://localhost:8080/"
        },
        "id": "n0vAf7vQ4W-F",
        "outputId": "690afdfb-d39f-4920-b8cd-0aa6f8512825"
      },
      "outputs": [
        {
          "output_type": "stream",
          "name": "stdout",
          "text": [
            "Say my name.\n"
          ]
        }
      ],
      "source": [
        "myString = \"Say \" #TODO(1) ✓\n",
        "myName = \"my name.\" #TODO(2) ✓\n",
        "\n",
        "def myFunction(myParameter): #TODO(3) ✓\n",
        "  print(myParameter) \n",
        "\n",
        "\n",
        "myFunction(myString + myName) #TODO(4) ✓\n"
      ]
    }
  ]
}