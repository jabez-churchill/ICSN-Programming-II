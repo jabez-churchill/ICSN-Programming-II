{
  "nbformat": 4,
  "nbformat_minor": 0,
  "metadata": {
    "colab": {
      "provenance": [],
      "mount_file_id": "1cuKUFZKLQv_zzwSIfobhHCJ0pV7o771K",
      "authorship_tag": "ABX9TyPOayMeaJMipkdx4pcWg7hx"
    },
    "kernelspec": {
      "name": "python3",
      "display_name": "Python 3"
    },
    "language_info": {
      "name": "python"
    }
  },
  "cells": [
    {
      "cell_type": "code",
      "execution_count": 4,
      "metadata": {
        "colab": {
          "base_uri": "https://localhost:8080/"
        },
        "id": "n0vAf7vQ4W-F",
        "outputId": "b257b9c1-57d0-4de3-8498-3d7c8f344cf7"
      },
      "outputs": [
        {
          "output_type": "stream",
          "name": "stdout",
          "text": [
            "Say my name.\n"
          ]
        }
      ],
      "source": [
        "myString = \"Say \" #TODO(1) ✓\n",
        "myName = \"my name.\" #TODO(2) ✓\n",
        "\n",
        "def myFunction(myParameter): #TODO(3) ✓\n",
        "  print(myParameter) #TODO(4) ✓\n",
        "\n",
        "\n",
        "myFunction(myString + myName)\n"
      ]
    }
  ]
}